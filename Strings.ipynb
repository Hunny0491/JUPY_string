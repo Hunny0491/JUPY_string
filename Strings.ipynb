{
 "cells": [
  {
   "cell_type": "markdown",
   "id": "378e7818-0deb-4ced-84aa-34b750800cea",
   "metadata": {},
   "source": [
    "### 1.Python String rjust() Method"
   ]
  },
  {
   "cell_type": "markdown",
   "id": "46001908-5472-492f-98e8-cec79a93637b",
   "metadata": {},
   "source": [
    "###### This string helps to give space in front of sentence : Returns a right justified version of the string"
   ]
  },
  {
   "cell_type": "code",
   "execution_count": 7,
   "id": "78f87bb8-bf1a-4ae3-83c2-314c1bbeac6c",
   "metadata": {},
   "outputs": [
    {
     "name": "stdout",
     "output_type": "stream",
     "text": [
      "                  Data Analyst is my favorite Field.\n"
     ]
    }
   ],
   "source": [
    "txt = \"Data Analyst\"\n",
    "\n",
    "x = txt.rjust(30)\n",
    "\n",
    "print(x, \"is my favorite Field.\")\n"
   ]
  },
  {
   "cell_type": "code",
   "execution_count": 20,
   "id": "6c25c007-325a-4c48-99bc-e6e4cfaea0d5",
   "metadata": {},
   "outputs": [
    {
     "name": "stdout",
     "output_type": "stream",
     "text": [
      "Cricket : I love to play cricket\n"
     ]
    }
   ],
   "source": [
    "txt = \"Cricket\"\n",
    "\n",
    "x = txt.rjust(0)\n",
    "\n",
    "print(x, \": I love to play cricket\")"
   ]
  },
  {
   "cell_type": "code",
   "execution_count": null,
   "id": "c3dd5601-c992-43fa-b90f-5e876c9653cc",
   "metadata": {},
   "outputs": [],
   "source": []
  },
  {
   "cell_type": "markdown",
   "id": "8b1afb77-4f37-40d6-b3de-97c7f4f5a7b3",
   "metadata": {},
   "source": [
    "### 2.swapcase() Method"
   ]
  },
  {
   "cell_type": "markdown",
   "id": "d93b2307-8852-4de2-88dc-9acb075d9302",
   "metadata": {},
   "source": [
    "###### Make the lower case letters upper case and the upper case letters lower case:"
   ]
  },
  {
   "cell_type": "code",
   "execution_count": 36,
   "id": "883a54f5-eacb-42bc-bb4e-b3633c91d6a5",
   "metadata": {},
   "outputs": [
    {
     "name": "stdout",
     "output_type": "stream",
     "text": [
      "hELLO mY nAME iS HUnnY\n"
     ]
    }
   ],
   "source": [
    "txt = \"Hello My Name Is huNNy\"\n",
    "\n",
    "x = txt.swapcase()\n",
    "\n",
    "print(x)\n"
   ]
  },
  {
   "cell_type": "code",
   "execution_count": 40,
   "id": "040ee161-a5a0-4c25-864e-58b833b5293f",
   "metadata": {},
   "outputs": [
    {
     "name": "stdout",
     "output_type": "stream",
     "text": [
      "DELL hp LENOVO\n"
     ]
    }
   ],
   "source": [
    "txt = \"dell HP lenovo\"\n",
    "x = txt.swapcase()\n",
    "print(x)"
   ]
  },
  {
   "cell_type": "code",
   "execution_count": null,
   "id": "7bc1cc3f-1e56-4550-a340-34976427dc43",
   "metadata": {},
   "outputs": [],
   "source": []
  },
  {
   "cell_type": "markdown",
   "id": "5ee77584-038f-44c1-9e39-a82c2193588f",
   "metadata": {},
   "source": [
    "### 3.count() Method"
   ]
  },
  {
   "cell_type": "markdown",
   "id": "a243104a-24a5-4fdc-ae60-fdea7fa1fdff",
   "metadata": {},
   "source": [
    "###### Return the number of times the value \"apple\" appears in the string:"
   ]
  },
  {
   "cell_type": "code",
   "execution_count": 45,
   "id": "e2fec46f-e24e-485c-bad1-ea6c23ba78fb",
   "metadata": {},
   "outputs": [
    {
     "name": "stdout",
     "output_type": "stream",
     "text": [
      "1\n"
     ]
    }
   ],
   "source": [
    "txt = \"I Like to Practice SQL, Because it is structured database\"\n",
    "\n",
    "x = txt.count(\"structured\")\n",
    "\n",
    "print(x)"
   ]
  },
  {
   "cell_type": "code",
   "execution_count": 51,
   "id": "134e2ec9-d70d-4b1e-971d-80810262e8b3",
   "metadata": {},
   "outputs": [
    {
     "name": "stdout",
     "output_type": "stream",
     "text": [
      "1\n"
     ]
    }
   ],
   "source": [
    "txt = \"RCB : Royal Challenger Bengaluru, Esala Cup Namde\"\n",
    "x = txt.count(\"Namde\")\n",
    "print(x)"
   ]
  },
  {
   "cell_type": "code",
   "execution_count": null,
   "id": "2aac56bc-18be-45a8-968f-b998f6ff9b43",
   "metadata": {},
   "outputs": [],
   "source": []
  },
  {
   "cell_type": "markdown",
   "id": "704e6a6a-b277-4c1f-ab56-e99b697155f7",
   "metadata": {},
   "source": [
    "### 4.find() Method"
   ]
  },
  {
   "cell_type": "markdown",
   "id": "5ba0c946-dfe5-42db-850b-765f3dacf4ee",
   "metadata": {},
   "source": [
    "###### this method is to use where the text is"
   ]
  },
  {
   "cell_type": "code",
   "execution_count": 56,
   "id": "153660ca-0103-4958-8e8a-b7b20c394650",
   "metadata": {},
   "outputs": [
    {
     "name": "stdout",
     "output_type": "stream",
     "text": [
      "24\n"
     ]
    }
   ],
   "source": [
    "txt = \"I Like to Practice SQL, Because it is structured database\"\n",
    "\n",
    "x = txt.find(\"Because\")\n",
    "\n",
    "print(x)"
   ]
  },
  {
   "cell_type": "code",
   "execution_count": 58,
   "id": "5e9c0f37-9e4d-4b96-aac5-8dd9f00debf2",
   "metadata": {},
   "outputs": [
    {
     "name": "stdout",
     "output_type": "stream",
     "text": [
      "17\n"
     ]
    }
   ],
   "source": [
    "txt = \"jupyter anaconda python sql powerBi\"\n",
    "\n",
    "x = txt.find(\"python\")\n",
    "\n",
    "print(x)"
   ]
  },
  {
   "cell_type": "code",
   "execution_count": null,
   "id": "82148452-0346-46ed-bf1a-760f745dcb1a",
   "metadata": {},
   "outputs": [],
   "source": []
  },
  {
   "cell_type": "markdown",
   "id": "69ee5f43-289c-4a37-ad93-71d164bf35c4",
   "metadata": {},
   "source": [
    "### 5.isalnum() Method\n",
    "\n"
   ]
  },
  {
   "cell_type": "markdown",
   "id": "cf862147-16ca-4794-a96e-068c54c4fce4",
   "metadata": {},
   "source": [
    "###### If all characters are text or alphanumeric then it is true if not in both then false"
   ]
  },
  {
   "cell_type": "code",
   "execution_count": 64,
   "id": "b4b9eaaa-1095-464f-8188-3d39499468ec",
   "metadata": {},
   "outputs": [
    {
     "name": "stdout",
     "output_type": "stream",
     "text": [
      "True\n"
     ]
    }
   ],
   "source": [
    "txt = \"CRICKRT\"\n",
    "\n",
    "x = txt.isalnum()\n",
    "\n",
    "print(x)"
   ]
  },
  {
   "cell_type": "code",
   "execution_count": 169,
   "id": "ff8e5b02-3039-47a2-baa4-965055550fb8",
   "metadata": {},
   "outputs": [
    {
     "name": "stdout",
     "output_type": "stream",
     "text": [
      "True\n"
     ]
    }
   ],
   "source": [
    "txt = \"data9\"\n",
    "\n",
    "x = txt.isalnum()\n",
    "\n",
    "print(x)"
   ]
  },
  {
   "cell_type": "code",
   "execution_count": null,
   "id": "78906049-7950-4d93-83d6-428399d2af8c",
   "metadata": {},
   "outputs": [],
   "source": []
  },
  {
   "cell_type": "markdown",
   "id": "72542373-9dfd-4e36-a8e2-71fb341abaf1",
   "metadata": {},
   "source": [
    "### 6.Casefold() Method"
   ]
  },
  {
   "cell_type": "markdown",
   "id": "3e784e72-14be-4e66-bcd1-216187212c26",
   "metadata": {},
   "source": [
    "###### Make the string lower case"
   ]
  },
  {
   "cell_type": "code",
   "execution_count": 81,
   "id": "69112f87-6095-4991-bd72-877fab77a6a0",
   "metadata": {},
   "outputs": [
    {
     "name": "stdout",
     "output_type": "stream",
     "text": [
      "all the best for your future\n"
     ]
    }
   ],
   "source": [
    "txt = \"ALL THE BesT for YOur FUtuRE\"\n",
    "\n",
    "x = txt.casefold()\n",
    "\n",
    "print(x)"
   ]
  },
  {
   "cell_type": "code",
   "execution_count": 83,
   "id": "420fd1ac-a8ab-41db-aeac-0466d53433db",
   "metadata": {},
   "outputs": [
    {
     "name": "stdout",
     "output_type": "stream",
     "text": [
      "all is well\n"
     ]
    }
   ],
   "source": [
    "txt = \"ALL IS WELL\"\n",
    "\n",
    "x = txt.casefold()\n",
    "\n",
    "print(x)"
   ]
  },
  {
   "cell_type": "code",
   "execution_count": null,
   "id": "35eb6546-d6d8-4ba9-a2ad-e3816a134101",
   "metadata": {},
   "outputs": [],
   "source": []
  },
  {
   "cell_type": "markdown",
   "id": "b0eb0ddd-0705-44f6-81e8-9f54004351b6",
   "metadata": {},
   "source": [
    "### 7.endswith() Method"
   ]
  },
  {
   "cell_type": "markdown",
   "id": "2bb6b203-e608-40ad-b9c4-e2bad668046e",
   "metadata": {},
   "source": [
    "###### Check if the string ends with "
   ]
  },
  {
   "cell_type": "code",
   "execution_count": 90,
   "id": "7b4cf317-d7ad-4d5c-a052-e7aaa077e4da",
   "metadata": {},
   "outputs": [
    {
     "name": "stdout",
     "output_type": "stream",
     "text": [
      "False\n"
     ]
    }
   ],
   "source": [
    "txt = \"ALL IS WELL\"\n",
    "\n",
    "x = txt.endswith(\".\")\n",
    "\n",
    "print(x)"
   ]
  },
  {
   "cell_type": "code",
   "execution_count": 96,
   "id": "dd08d4ed-b547-4f67-82a3-618c33c5a7e1",
   "metadata": {},
   "outputs": [
    {
     "name": "stdout",
     "output_type": "stream",
     "text": [
      "True\n"
     ]
    }
   ],
   "source": [
    "txt = \"ALL IS WELL\"\n",
    "\n",
    "x = txt.endswith(\"\")\n",
    "\n",
    "print(x)"
   ]
  },
  {
   "cell_type": "code",
   "execution_count": null,
   "id": "6e66f601-99d0-447c-a3cd-d48fa8283d84",
   "metadata": {},
   "outputs": [],
   "source": []
  },
  {
   "cell_type": "markdown",
   "id": "fe027aae-b619-4b0f-9e10-7d5ab1e9e560",
   "metadata": {},
   "source": [
    "### 8.isdecimal () Method"
   ]
  },
  {
   "cell_type": "markdown",
   "id": "af9f2928-d694-437d-a14d-ac735aefdb7c",
   "metadata": {},
   "source": [
    "###### check if all the characters in a string are decimals (0-9):"
   ]
  },
  {
   "cell_type": "code",
   "execution_count": 107,
   "id": "c348b981-3b7c-4c58-8782-e99a5f58d50e",
   "metadata": {},
   "outputs": [
    {
     "name": "stdout",
     "output_type": "stream",
     "text": [
      "False\n"
     ]
    }
   ],
   "source": [
    "txt = \"84.77\"\n",
    "\n",
    "x = txt.isdecimal()\n",
    "\n",
    "print(x)"
   ]
  },
  {
   "cell_type": "code",
   "execution_count": 111,
   "id": "eb9146bd-8ae0-4ec9-afeb-73fd56968a51",
   "metadata": {},
   "outputs": [
    {
     "name": "stdout",
     "output_type": "stream",
     "text": [
      "True\n"
     ]
    }
   ],
   "source": [
    "txt = \"5847\"\n",
    "\n",
    "x = txt.isdecimal()\n",
    "\n",
    "print(x)"
   ]
  },
  {
   "cell_type": "code",
   "execution_count": null,
   "id": "9743c944-30d9-46fd-8d36-269024306ef9",
   "metadata": {},
   "outputs": [],
   "source": []
  },
  {
   "cell_type": "markdown",
   "id": "45122577-a0cf-48d1-893a-5f353e37503d",
   "metadata": {},
   "source": [
    "### 9.Capitalize() Method"
   ]
  },
  {
   "cell_type": "markdown",
   "id": "4232f9ae-42eb-45ca-9d30-31778ae4eb41",
   "metadata": {},
   "source": [
    "###### Upper case the first letter in this sentence"
   ]
  },
  {
   "cell_type": "code",
   "execution_count": 116,
   "id": "ddb5b5d1-76c0-4ee5-a69a-5a78368a4d6b",
   "metadata": {},
   "outputs": [
    {
     "name": "stdout",
     "output_type": "stream",
     "text": [
      "I love my india\n"
     ]
    }
   ],
   "source": [
    "txt =\"i love my INDIA\"\n",
    "\n",
    "x = txt.capitalize()\n",
    "\n",
    "print(x)"
   ]
  },
  {
   "cell_type": "code",
   "execution_count": 123,
   "id": "57b6c4f3-bccc-467c-9df9-f5103dbd0029",
   "metadata": {},
   "outputs": [
    {
     "name": "stdout",
     "output_type": "stream",
     "text": [
      "My name is lakhan\n"
     ]
    }
   ],
   "source": [
    "txt = \"my name is lakhan\"\n",
    "\n",
    "x = txt.capitalize()\n",
    "\n",
    "print(x)"
   ]
  },
  {
   "cell_type": "code",
   "execution_count": null,
   "id": "ce439867-8a69-41af-bcd5-9a6fb17c9092",
   "metadata": {},
   "outputs": [],
   "source": []
  },
  {
   "cell_type": "markdown",
   "id": "4520ca0e-fb0f-4291-8cbc-d0824ca8d9df",
   "metadata": {},
   "source": [
    "### 10.isprintable() Method"
   ]
  },
  {
   "cell_type": "markdown",
   "id": "38b62f8d-3e49-43dc-91d8-17ae5fed9b21",
   "metadata": {},
   "source": [
    "###### Check if all the characters in the text are printable"
   ]
  },
  {
   "cell_type": "code",
   "execution_count": 143,
   "id": "5a343ccd-994d-4e2e-8536-783e83119ba9",
   "metadata": {},
   "outputs": [
    {
     "name": "stdout",
     "output_type": "stream",
     "text": [
      "True\n"
     ]
    }
   ],
   "source": [
    "txt = \" I love *  my India\"\n",
    "\n",
    "x = txt.isprintable()\n",
    "\n",
    "print(x)"
   ]
  },
  {
   "cell_type": "code",
   "execution_count": 151,
   "id": "10b3af73-160a-4580-9295-22938f15f564",
   "metadata": {},
   "outputs": [
    {
     "name": "stdout",
     "output_type": "stream",
     "text": [
      "True\n"
     ]
    }
   ],
   "source": [
    "txt  = \"my name is khan\"\n",
    "\n",
    "x = txt.isprintable()\n",
    "\n",
    "print(x)"
   ]
  },
  {
   "cell_type": "code",
   "execution_count": null,
   "id": "624aea7b-c5ed-41f2-8a15-f9a62dbf9f70",
   "metadata": {},
   "outputs": [],
   "source": []
  },
  {
   "cell_type": "markdown",
   "id": "80d0b0b3-9d09-4b12-9f01-09848c882b3a",
   "metadata": {},
   "source": [
    "### 11.islower() Method"
   ]
  },
  {
   "cell_type": "markdown",
   "id": "bd4b0030-7e7d-4d8f-92e9-0992b7ccfeda",
   "metadata": {},
   "source": [
    "###### Check if all the characters in the text are in lower case"
   ]
  },
  {
   "cell_type": "code",
   "execution_count": 155,
   "id": "0f51454d-1301-4051-b6a6-6c18a7ca8bac",
   "metadata": {},
   "outputs": [
    {
     "name": "stdout",
     "output_type": "stream",
     "text": [
      "False\n"
     ]
    }
   ],
   "source": [
    "txt = \"MY NAME IS KHAN\"\n",
    "\n",
    "x = txt.islower()\n",
    "\n",
    "print(x)"
   ]
  },
  {
   "cell_type": "code",
   "execution_count": 159,
   "id": "27945dc6-4216-4357-8ada-ee49739e16e7",
   "metadata": {},
   "outputs": [
    {
     "name": "stdout",
     "output_type": "stream",
     "text": [
      "True\n"
     ]
    }
   ],
   "source": [
    "txt = \"i love my india\"\n",
    "\n",
    "x = txt.islower()\n",
    "\n",
    "print(x)"
   ]
  },
  {
   "cell_type": "code",
   "execution_count": null,
   "id": "d5430545-1d36-41b4-8bf0-9849dbdec9c5",
   "metadata": {},
   "outputs": [],
   "source": []
  },
  {
   "cell_type": "markdown",
   "id": "89610bdc-ea62-4a2d-ae22-1ae2e0a2558f",
   "metadata": {},
   "source": [
    "### 12.isalpha() Method"
   ]
  },
  {
   "cell_type": "markdown",
   "id": "affb6528-628a-4286-8b2c-6d189e595a20",
   "metadata": {},
   "source": [
    "###### Returns True if all characters in the string are in the alphabet"
   ]
  },
  {
   "cell_type": "code",
   "execution_count": 183,
   "id": "7410d058-d42f-43e6-ac33-557ff357fcdc",
   "metadata": {},
   "outputs": [
    {
     "name": "stdout",
     "output_type": "stream",
     "text": [
      "True\n"
     ]
    }
   ],
   "source": [
    "txt = \"dataanalyst\"\n",
    "\n",
    "x = txt.isalpha()\n",
    "\n",
    "print(x)"
   ]
  },
  {
   "cell_type": "code",
   "execution_count": 185,
   "id": "83255f9e-d6fe-4ff5-b917-50c809031126",
   "metadata": {},
   "outputs": [
    {
     "name": "stdout",
     "output_type": "stream",
     "text": [
      "False\n"
     ]
    }
   ],
   "source": [
    "txt = \"dataanalyst9\"\n",
    "\n",
    "x = txt.isalpha()\n",
    "\n",
    "print(x)"
   ]
  },
  {
   "cell_type": "code",
   "execution_count": null,
   "id": "29d16589-551a-4725-9608-f649ec2da2a8",
   "metadata": {},
   "outputs": [],
   "source": []
  },
  {
   "cell_type": "markdown",
   "id": "0bcbc019-0704-4ebd-bdd8-cc48e8449e4f",
   "metadata": {},
   "source": [
    "### 13.isspace() Method"
   ]
  },
  {
   "cell_type": "markdown",
   "id": "9b2cbb0d-a03e-4795-b60a-ef740050a020",
   "metadata": {},
   "source": [
    "###### Returns True if all characters in the string are whitespaces"
   ]
  },
  {
   "cell_type": "code",
   "execution_count": 192,
   "id": "4d2af7a6-df09-43fe-b7e9-65c984c16881",
   "metadata": {},
   "outputs": [
    {
     "name": "stdout",
     "output_type": "stream",
     "text": [
      "False\n"
     ]
    }
   ],
   "source": [
    "txt = \"alliswell\"\n",
    "\n",
    "x = txt.isspace()\n",
    "\n",
    "print(x)"
   ]
  },
  {
   "cell_type": "code",
   "execution_count": 196,
   "id": "a27f7db2-42da-44d2-b9e2-779497d8f3db",
   "metadata": {},
   "outputs": [
    {
     "name": "stdout",
     "output_type": "stream",
     "text": [
      "True\n"
     ]
    }
   ],
   "source": [
    "txt = \"   \"\n",
    "\n",
    "x = txt.isspace()\n",
    "\n",
    "print(x)"
   ]
  },
  {
   "cell_type": "code",
   "execution_count": null,
   "id": "6226fec0-1983-48f3-88fc-4551e37f8967",
   "metadata": {},
   "outputs": [],
   "source": []
  },
  {
   "cell_type": "markdown",
   "id": "82b85912-9c2d-4163-b5c2-43fd723e4fd7",
   "metadata": {},
   "source": [
    "### 14.isdigit() Method"
   ]
  },
  {
   "cell_type": "markdown",
   "id": "e015bf4a-6329-4fe9-b8e8-eb1feb480651",
   "metadata": {},
   "source": [
    "###### Returns True if all characters in the string are digits"
   ]
  },
  {
   "cell_type": "code",
   "execution_count": 207,
   "id": "dca5cc77-8812-4d71-b891-e926879c6341",
   "metadata": {},
   "outputs": [
    {
     "name": "stdout",
     "output_type": "stream",
     "text": [
      "True\n"
     ]
    }
   ],
   "source": [
    "txt = \"8520\"\n",
    "\n",
    "x = txt.isdigit()\n",
    "\n",
    "print(x)"
   ]
  },
  {
   "cell_type": "code",
   "execution_count": 209,
   "id": "c152d0b8-f4ba-4d5b-9885-a013b7123354",
   "metadata": {},
   "outputs": [
    {
     "name": "stdout",
     "output_type": "stream",
     "text": [
      "False\n"
     ]
    }
   ],
   "source": [
    "txt = \"arc7\"\n",
    "\n",
    "x = txt.isdigit()\n",
    "\n",
    "print(x)"
   ]
  },
  {
   "cell_type": "code",
   "execution_count": null,
   "id": "4c1accad-f0b5-4428-a523-397dc577d3b7",
   "metadata": {},
   "outputs": [],
   "source": []
  },
  {
   "cell_type": "markdown",
   "id": "63767385-3a93-41a6-9a61-a6d5c8390d15",
   "metadata": {},
   "source": [
    "### 15. replace() Method"
   ]
  },
  {
   "cell_type": "markdown",
   "id": "171ae181-03c9-4e5c-96be-9692cd7be74a",
   "metadata": {},
   "source": [
    "###### Returns a string where a specified value is replaced with a specified value"
   ]
  },
  {
   "cell_type": "code",
   "execution_count": 216,
   "id": "41c7a731-0b76-4091-94b7-aad0d379b4fd",
   "metadata": {},
   "outputs": [
    {
     "name": "stdout",
     "output_type": "stream",
     "text": [
      " i like to eat chapati\n"
     ]
    }
   ],
   "source": [
    "txt = \" i like to eat rice\"\n",
    "\n",
    "x = txt.replace(\"rice\",\"chapati\")\n",
    "\n",
    "print(x)"
   ]
  },
  {
   "cell_type": "code",
   "execution_count": 218,
   "id": "13710715-d1be-4391-aad2-480fc75e3323",
   "metadata": {},
   "outputs": [
    {
     "name": "stdout",
     "output_type": "stream",
     "text": [
      " My name is khan\n"
     ]
    }
   ],
   "source": [
    "txt = \" My name is lakhan\"\n",
    "\n",
    "x = txt.replace(\"lakhan\",\"khan\")\n",
    "\n",
    "print(x)"
   ]
  },
  {
   "cell_type": "code",
   "execution_count": null,
   "id": "7a1286ea-bfd0-495c-94f3-51a59b5b7590",
   "metadata": {},
   "outputs": [],
   "source": []
  }
 ],
 "metadata": {
  "kernelspec": {
   "display_name": "Python 3 (ipykernel)",
   "language": "python",
   "name": "python3"
  },
  "language_info": {
   "codemirror_mode": {
    "name": "ipython",
    "version": 3
   },
   "file_extension": ".py",
   "mimetype": "text/x-python",
   "name": "python",
   "nbconvert_exporter": "python",
   "pygments_lexer": "ipython3",
   "version": "3.12.4"
  }
 },
 "nbformat": 4,
 "nbformat_minor": 5
}
